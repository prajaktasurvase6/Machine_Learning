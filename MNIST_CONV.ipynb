{
 "cells": [
  {
   "cell_type": "code",
   "execution_count": 4,
   "metadata": {},
   "outputs": [],
   "source": [
    "import tensorflow as tf"
   ]
  },
  {
   "cell_type": "code",
   "execution_count": 5,
   "metadata": {
    "colab": {},
    "colab_type": "code",
    "id": "sfQRyaJWAIdg"
   },
   "outputs": [],
   "source": [
    "#train_mnist_conv\n",
    "def train_mnist_conv():\n",
    "\n",
    "    \n",
    "    class myCallback(tf.keras.callbacks.Callback):\n",
    "        def on_epoch_end(self, epoch, logs={}):\n",
    "            if(logs.get('acc')>0.998):\n",
    "                print(\"\\nReached 99.8% accuracy so cancelling training!\")\n",
    "                self.model.stop_training = True\n",
    "    \n",
    "\n",
    "    mnist = tf.keras.datasets.mnist\n",
    "    (training_images, training_labels), (test_images, test_labels) = mnist.load_data()\n",
    "    \n",
    "    callbacks = myCallback()\n",
    "    \n",
    "    training_images=training_images.reshape(60000, 28, 28, 1)\n",
    "    training_images=training_images / 255.0\n",
    "    test_images = test_images.reshape(10000, 28, 28, 1)\n",
    "    test_images=test_images/255.0\n",
    "    \n",
    "\n",
    "    model = tf.keras.models.Sequential([\n",
    "            \n",
    "            tf.keras.layers.Conv2D(64, (3,3), activation='relu', input_shape=(28, 28, 1)),\n",
    "            tf.keras.layers.MaxPooling2D(2, 2),\n",
    "            tf.keras.layers.Conv2D(64, (3,3), activation='relu'),\n",
    "            tf.keras.layers.MaxPooling2D(2,2),\n",
    "            tf.keras.layers.Flatten(),\n",
    "            tf.keras.layers.Dense(128, activation='relu'),\n",
    "            tf.keras.layers.Dense(10, activation='softmax')\n",
    "           \n",
    "    ])\n",
    "\n",
    "    model.compile(optimizer='adam', loss='sparse_categorical_crossentropy', metrics=['accuracy'])\n",
    "    # model fitting\n",
    "    history = model.fit(\n",
    "       \n",
    "            training_images, training_labels, epochs=20, callbacks=[callbacks]\n",
    "        \n",
    "    )\n",
    "    # model fitting\n",
    "    return history.epoch, history.history['acc'][-1]\n",
    "\n"
   ]
  },
  {
   "cell_type": "code",
   "execution_count": 6,
   "metadata": {},
   "outputs": [
    {
     "name": "stdout",
     "output_type": "stream",
     "text": [
      "Epoch 1/20\n",
      "60000/60000 [==============================] - 69s 1ms/step - loss: 0.1193 - acc: 0.9642\n",
      "Epoch 2/20\n",
      "60000/60000 [==============================] - 65s 1ms/step - loss: 0.0414 - acc: 0.9868\n",
      "Epoch 3/20\n",
      "60000/60000 [==============================] - 67s 1ms/step - loss: 0.0283 - acc: 0.9907\n",
      "Epoch 4/20\n",
      "60000/60000 [==============================] - 68s 1ms/step - loss: 0.0203 - acc: 0.9933\n",
      "Epoch 5/20\n",
      "60000/60000 [==============================] - 69s 1ms/step - loss: 0.0151 - acc: 0.9950\n",
      "Epoch 6/20\n",
      "60000/60000 [==============================] - 69s 1ms/step - loss: 0.0116 - acc: 0.9964\n",
      "Epoch 7/20\n",
      "60000/60000 [==============================] - 70s 1ms/step - loss: 0.0107 - acc: 0.9964\n",
      "Epoch 8/20\n",
      "60000/60000 [==============================] - 70s 1ms/step - loss: 0.0085 - acc: 0.9974\n",
      "Epoch 9/20\n",
      "60000/60000 [==============================] - 71s 1ms/step - loss: 0.0076 - acc: 0.9975\n",
      "Epoch 10/20\n",
      "59968/60000 [============================>.] - ETA: 0s - loss: 0.0058 - acc: 0.9981\n",
      "Reached 99.8% accuracy so cancelling training!\n",
      "60000/60000 [==============================] - 71s 1ms/step - loss: 0.0058 - acc: 0.9981\n"
     ]
    }
   ],
   "source": [
    "_, _ = train_mnist_conv()"
   ]
  }
 ],
 "metadata": {
  "coursera": {
   "course_slug": "introduction-tensorflow",
   "graded_item_id": "ml06H",
   "launcher_item_id": "hQF8A"
  },
  "kernelspec": {
   "display_name": "Python 3",
   "language": "python",
   "name": "python3"
  },
  "language_info": {
   "codemirror_mode": {
    "name": "ipython",
    "version": 3
   },
   "file_extension": ".py",
   "mimetype": "text/x-python",
   "name": "python",
   "nbconvert_exporter": "python",
   "pygments_lexer": "ipython3",
   "version": "3.6.12"
  }
 },
 "nbformat": 4,
 "nbformat_minor": 1
}
